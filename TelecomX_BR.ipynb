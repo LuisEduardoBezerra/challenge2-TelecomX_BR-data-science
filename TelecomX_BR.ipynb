{
  "cells": [
    {
      "cell_type": "markdown",
      "metadata": {
        "id": "4foVEKhrlqcH"
      },
      "source": [
        "#📌 Extracão"
      ]
    },
    {
      "cell_type": "code",
      "execution_count": 1,
      "metadata": {
        "id": "1--uPM88l7JH",
        "colab": {
          "base_uri": "https://localhost:8080/"
        },
        "outputId": "c419a805-a2fb-4a28-ee40-6695ecc76c56"
      },
      "outputs": [
        {
          "output_type": "stream",
          "name": "stdout",
          "text": [
            "Dados extraídos e convertidos para DataFrame com sucesso!\n",
            "\n",
            "Verificando as colunas originais do DataFrame:\n",
            "Index(['customerID', 'Churn', 'customer', 'phone', 'internet', 'account'], dtype='object')\n",
            "<class 'pandas.core.frame.DataFrame'>\n",
            "RangeIndex: 7267 entries, 0 to 7266\n",
            "Data columns (total 6 columns):\n",
            " #   Column      Non-Null Count  Dtype \n",
            "---  ------      --------------  ----- \n",
            " 0   customerID  7267 non-null   object\n",
            " 1   Churn       7267 non-null   object\n",
            " 2   customer    7267 non-null   object\n",
            " 3   phone       7267 non-null   object\n",
            " 4   internet    7267 non-null   object\n",
            " 5   account     7267 non-null   object\n",
            "dtypes: object(6)\n",
            "memory usage: 340.8+ KB\n"
          ]
        }
      ],
      "source": [
        "import pandas as pd\n",
        "import requests\n",
        "\n",
        "# Link da API (arquivo JSON raw do GitHub)\n",
        "api_url = 'https://raw.githubusercontent.com/ingridcristh/challenge2-data-science/main/TelecomX_Data.json'\n",
        "\n",
        "try:\n",
        "    response = requests.get(api_url)\n",
        "    if response.status_code == 200:\n",
        "        data = response.json()\n",
        "        df_churn = pd.DataFrame(data)\n",
        "        print(\"Dados extraídos e convertidos para DataFrame com sucesso!\")\n",
        "        print(\"\\nVerificando as colunas originais do DataFrame:\")\n",
        "        print(df_churn.columns)\n",
        "        df_churn.info()\n",
        "    else:\n",
        "        print(f\"Erro ao acessar a API. Código de status: {response.status_code}\")\n",
        "        df_churn = None\n",
        "except requests.exceptions.RequestException as e:\n",
        "    print(f\"Ocorreu um erro de conexão: {e}\")\n",
        "    df_churn = None"
      ]
    },
    {
      "cell_type": "markdown",
      "metadata": {
        "id": "1lSZP8zmmGZu"
      },
      "source": [
        "#🔧 Transformação"
      ]
    },
    {
      "cell_type": "code",
      "execution_count": 2,
      "metadata": {
        "id": "bsm-WTLjmHvt",
        "colab": {
          "base_uri": "https://localhost:8080/"
        },
        "outputId": "4bbf7269-54a4-45d6-8b19-5594e46eecd6"
      },
      "outputs": [
        {
          "output_type": "stream",
          "name": "stdout",
          "text": [
            "--- Expandindo colunas aninhadas ---\n",
            "Colunas após json_normalize:\n",
            "Index(['customerID', 'Churn', 'customer.gender', 'customer.SeniorCitizen',\n",
            "       'customer.Partner', 'customer.Dependents', 'customer.tenure',\n",
            "       'phone.PhoneService', 'phone.MultipleLines', 'internet.InternetService',\n",
            "       'internet.OnlineSecurity', 'internet.OnlineBackup',\n",
            "       'internet.DeviceProtection', 'internet.TechSupport',\n",
            "       'internet.StreamingTV', 'internet.StreamingMovies', 'account.Contract',\n",
            "       'account.PaperlessBilling', 'account.PaymentMethod',\n",
            "       'account.Charges.Monthly', 'account.Charges.Total'],\n",
            "      dtype='object')\n",
            "--- 1. Tratando a coluna 'account.Charges.Total' ---\n",
            "Valores ausentes em 'account.Charges.Total' foram removidos.\n",
            "\n",
            "--- 2. Removendo a coluna 'customerID' ---\n",
            "Coluna 'customerID' removida.\n",
            "\n",
            "--- 3. Criando a coluna 'Contas_Diarias' ---\n",
            "Coluna 'Contas_Diarias' criada com sucesso.\n",
            "\n",
            "--- 4. Padronização e tradução de dados ---\n",
            "\n",
            "--- Verificação final do DataFrame após todas as transformações ---\n",
            "<class 'pandas.core.frame.DataFrame'>\n",
            "Index: 7256 entries, 0 to 7266\n",
            "Data columns (total 21 columns):\n",
            " #   Column            Non-Null Count  Dtype  \n",
            "---  ------            --------------  -----  \n",
            " 0   Evasao            7032 non-null   float64\n",
            " 1   Genero            7256 non-null   object \n",
            " 2   Idoso             7256 non-null   object \n",
            " 3   Parceiro          7256 non-null   object \n",
            " 4   Dependentes       7256 non-null   object \n",
            " 5   TempoServico      7256 non-null   int64  \n",
            " 6   ServicoTelefone   7256 non-null   object \n",
            " 7   MultiplasLinhas   7256 non-null   object \n",
            " 8   ServicoInternet   7256 non-null   object \n",
            " 9   SegurancaOnline   7256 non-null   object \n",
            " 10  BackupOnline      7256 non-null   object \n",
            " 11  ProtecaoAparelho  7256 non-null   object \n",
            " 12  SuporteTecnico    7256 non-null   object \n",
            " 13  StreamingTV       7256 non-null   object \n",
            " 14  StreamingFilmes   7256 non-null   object \n",
            " 15  TipoContrato      7256 non-null   object \n",
            " 16  FaturaDigital     7256 non-null   object \n",
            " 17  MetodoPagamento   7256 non-null   object \n",
            " 18  CustoMensal       7256 non-null   float64\n",
            " 19  CustoTotal        7256 non-null   float64\n",
            " 20  Contas_Diarias    7256 non-null   float64\n",
            "dtypes: float64(4), int64(1), object(16)\n",
            "memory usage: 1.2+ MB\n",
            "\n",
            "Primeiras 5 linhas do DataFrame final:\n",
            "   Evasao     Genero Idoso Parceiro Dependentes  TempoServico ServicoTelefone  \\\n",
            "0     0.0   Feminino   Não      Sim         Sim             9             Sim   \n",
            "1     0.0  Masculino   Não      Não         Não             9             Sim   \n",
            "2     1.0  Masculino   Não      Não         Não             4             Sim   \n",
            "3     1.0  Masculino   Sim      Sim         Não            13             Sim   \n",
            "4     1.0   Feminino   Sim      Sim         Não             3             Sim   \n",
            "\n",
            "  MultiplasLinhas ServicoInternet SegurancaOnline  ... ProtecaoAparelho  \\\n",
            "0              No             DSL             Não  ...              Não   \n",
            "1             Yes             DSL             Não  ...              Não   \n",
            "2              No     Fiber optic             Não  ...              Sim   \n",
            "3              No     Fiber optic             Não  ...              Sim   \n",
            "4              No     Fiber optic             Não  ...              Não   \n",
            "\n",
            "  SuporteTecnico StreamingTV StreamingFilmes TipoContrato FaturaDigital  \\\n",
            "0            Sim         Sim             Não        Anual           Sim   \n",
            "1            Não         Não             Sim       Mensal           Não   \n",
            "2            Não         Não             Não       Mensal           Sim   \n",
            "3            Não         Sim             Sim       Mensal           Sim   \n",
            "4            Sim         Sim             Não       Mensal           Sim   \n",
            "\n",
            "     MetodoPagamento CustoMensal  CustoTotal  Contas_Diarias  \n",
            "0     Cheque enviado        65.6      593.30        2.155059  \n",
            "1     Cheque enviado        59.9      542.40        1.967806  \n",
            "2  Cheque eletrônico        73.9      280.85        2.427727  \n",
            "3  Cheque eletrônico        98.0     1237.85        3.219448  \n",
            "4     Cheque enviado        83.9      267.40        2.756242  \n",
            "\n",
            "[5 rows x 21 columns]\n"
          ]
        }
      ],
      "source": [
        "# Bloco de Transformação de Dados\n",
        "\n",
        "# Expandindo as colunas com estruturas aninhadas\n",
        "print(\"--- Expandindo colunas aninhadas ---\")\n",
        "# Convertendo o DataFrame para uma lista de dicionários para json_normalize\n",
        "data_list = df_churn.to_dict('records')\n",
        "df_churn = pd.json_normalize(data_list)\n",
        "\n",
        "# Print columns after normalization to diagnose\n",
        "print(\"Colunas após json_normalize:\")\n",
        "print(df_churn.columns)\n",
        "\n",
        "# Ação 1: Tratamento da coluna 'account.Charges.Total'\n",
        "print(\"--- 1. Tratando a coluna 'account.Charges.Total' ---\")\n",
        "# Substitui espaços vazios por valores nulos (NaN)\n",
        "df_churn['account.Charges.Total'] = df_churn['account.Charges.Total'].replace(' ', pd.NA)\n",
        "# Converte a coluna para tipo numérico, forçando valores não convertíveis a NaN\n",
        "df_churn['account.Charges.Total'] = pd.to_numeric(df_churn['account.Charges.Total'], errors='coerce')\n",
        "\n",
        "# Ação 2: Remoção de linhas com valores ausentes em 'account.Charges.Total'\n",
        "df_churn.dropna(subset=['account.Charges.Total'], inplace=True)\n",
        "print(\"Valores ausentes em 'account.Charges.Total' foram removidos.\")\n",
        "\n",
        "# Ação 3: Remoção da coluna 'customerID'\n",
        "print(\"\\n--- 2. Removendo a coluna 'customerID' ---\")\n",
        "if 'customerID' in df_churn.columns:\n",
        "    df_churn.drop('customerID', axis=1, inplace=True)\n",
        "    print(\"Coluna 'customerID' removida.\")\n",
        "else:\n",
        "    print(\"A coluna 'customerID' não foi encontrada, não precisa ser removida.\")\n",
        "\n",
        "# Ação 4: Criação da nova coluna 'Contas_Diarias'\n",
        "print(\"\\n--- 3. Criando a coluna 'Contas_Diarias' ---\")\n",
        "df_churn['Contas_Diarias'] = df_churn['account.Charges.Monthly'] / 30.44\n",
        "print(\"Coluna 'Contas_Diarias' criada com sucesso.\")\n",
        "\n",
        "# Ação 5: Padronização e tradução de colunas e valores\n",
        "print(\"\\n--- 4. Padronização e tradução de dados ---\")\n",
        "colunas_renomear = {\n",
        "    'customer.gender': 'Genero',\n",
        "    'customer.SeniorCitizen': 'Idoso',\n",
        "    'customer.Partner': 'Parceiro',\n",
        "    'customer.Dependents': 'Dependentes',\n",
        "    'customer.tenure': 'TempoServico',\n",
        "    'phone.PhoneService': 'ServicoTelefone',\n",
        "    'phone.MultipleLines': 'MultiplasLinhas',\n",
        "    'internet.InternetService': 'ServicoInternet',\n",
        "    'internet.OnlineSecurity': 'SegurancaOnline',\n",
        "    'internet.OnlineBackup': 'BackupOnline',\n",
        "    'internet.DeviceProtection': 'ProtecaoAparelho',\n",
        "    'internet.TechSupport': 'SuporteTecnico',\n",
        "    'internet.StreamingTV': 'StreamingTV',\n",
        "    'internet.StreamingMovies': 'StreamingFilmes',\n",
        "    'account.Contract': 'TipoContrato',\n",
        "    'account.PaperlessBilling': 'FaturaDigital',\n",
        "    'account.PaymentMethod': 'MetodoPagamento',\n",
        "    'account.Charges.Monthly': 'CustoMensal',\n",
        "    'account.Charges.Total': 'CustoTotal',\n",
        "    'Churn': 'Evasao'\n",
        "}\n",
        "df_churn.rename(columns=colunas_renomear, inplace=True)\n",
        "\n",
        "# Mapeando os valores categóricos\n",
        "df_churn['Evasao'] = df_churn['Evasao'].map({'Yes': 1, 'No': 0})\n",
        "df_churn['Genero'] = df_churn['Genero'].replace({'Male': 'Masculino', 'Female': 'Feminino'})\n",
        "df_churn['Idoso'] = df_churn['Idoso'].replace({1: 'Sim', 0: 'Não'})\n",
        "\n",
        "# Mapeamentos adicionais\n",
        "sim_nao_map = {'Yes': 'Sim', 'No': 'Não'}\n",
        "cols_para_traduzir_sim_nao = [\n",
        "    'Parceiro', 'Dependentes', 'ServicoTelefone', 'FaturaDigital'\n",
        "]\n",
        "for col in cols_para_traduzir_sim_nao:\n",
        "    df_churn[col] = df_churn[col].replace(sim_nao_map)\n",
        "\n",
        "for col in ['SegurancaOnline', 'BackupOnline', 'ProtecaoAparelho', 'SuporteTecnico', 'StreamingTV', 'StreamingFilmes']:\n",
        "    df_churn[col] = df_churn[col].replace({'No': 'Não', 'Yes': 'Sim', 'No internet service': 'Sem servico de internet'})\n",
        "\n",
        "df_churn['TipoContrato'] = df_churn['TipoContrato'].replace({\n",
        "    'Month-to-month': 'Mensal', 'One year': 'Anual', 'Two year': 'Dois anos'\n",
        "})\n",
        "df_churn['MetodoPagamento'] = df_churn['MetodoPagamento'].replace({\n",
        "    'Electronic check': 'Cheque eletrônico', 'Mailed check': 'Cheque enviado',\n",
        "    'Bank transfer (automatic)': 'Transferência bancária (automática)',\n",
        "    'Credit card (automatic)': 'Cartão de crédito (automático)'\n",
        "})\n",
        "\n",
        "print(\"\\n--- Verificação final do DataFrame após todas as transformações ---\")\n",
        "df_churn.info()\n",
        "print(\"\\nPrimeiras 5 linhas do DataFrame final:\")\n",
        "print(df_churn.head())"
      ]
    },
    {
      "cell_type": "markdown",
      "metadata": {
        "id": "6XnTC2NTmMRL"
      },
      "source": [
        "#📊 Carga e análise"
      ]
    },
    {
      "cell_type": "code",
      "execution_count": 3,
      "metadata": {
        "id": "1jgUnLqTmPdd",
        "colab": {
          "base_uri": "https://localhost:8080/",
          "height": 808
        },
        "outputId": "b5eb29f8-aa08-4c00-d88a-53ccaa3317b8"
      },
      "outputs": [
        {
          "output_type": "stream",
          "name": "stdout",
          "text": [
            "--- Análise da Taxa de Evasão Geral ---\n",
            "Contagem de clientes: \n",
            "Evasao\n",
            "0.0    5163\n",
            "1.0    1869\n",
            "Name: count, dtype: int64\n",
            "\n",
            "Porcentagem de clientes por status de evasão: \n",
            "Evasao\n",
            "0.0    73.421502\n",
            "1.0    26.578498\n",
            "Name: proportion, dtype: float64\n"
          ]
        },
        {
          "output_type": "display_data",
          "data": {
            "text/plain": [
              "<Figure size 700x700 with 1 Axes>"
            ],
            "image/png": "[encoded data removed]"
          },
          "metadata": {}
        }
      ],
      "source": [
        "import matplotlib.pyplot as plt\n",
        "import seaborn as sns\n",
        "\n",
        "# Configurações de estilo para os gráficos\n",
        "sns.set_style(\"whitegrid\")\n",
        "\n",
        "# --- Análise da Taxa de Evasão (Churn) ---\n",
        "\n",
        "print(\"--- Análise da Taxa de Evasão Geral ---\")\n",
        "\n",
        "# Contagem de clientes que evadiram (1) e que não evadiram (0)\n",
        "churn_count = df_churn['Evasao'].value_counts()\n",
        "\n",
        "# Calcular a porcentagem\n",
        "churn_percentage = df_churn['Evasao'].value_counts(normalize=True) * 100\n",
        "\n",
        "print(f\"Contagem de clientes: \\n{churn_count}\")\n",
        "print(f\"\\nPorcentagem de clientes por status de evasão: \\n{churn_percentage}\")\n",
        "\n",
        "# Criar um gráfico de pizza para visualizar a proporção\n",
        "plt.figure(figsize=(7, 7))\n",
        "plt.pie(\n",
        "    churn_percentage,\n",
        "    labels=['Não Evadiu', 'Evadiu'],\n",
        "    autopct='%1.1f%%',\n",
        "    startangle=90,\n",
        "    colors=['#4CAF50', '#F44336'], # Cores para Não Evadiu e Evadiu\n",
        "    explode=(0, 0.1) # Para destacar a fatia de 'Evadiu'\n",
        ")\n",
        "plt.title('Taxa de Evasão de Clientes', fontsize=16)\n",
        "plt.show()"
      ]
    },
    {
      "cell_type": "markdown",
      "metadata": {
        "id": "v-WzfSvTmaw9"
      },
      "source": [
        "#📄Relatorio Final"
      ]
    },
    {
      "cell_type": "markdown",
      "source": [
        "# Relatório Final: Análise de Evasão de Clientes na Telecom X\n",
        "\n",
        "## 1. Introdução\n",
        "\n",
        "Este relatório apresenta os resultados de uma análise de dados sobre a evasão de clientes (Churn) na empresa de telecomunicações Telecom X. O principal objetivo é identificar os fatores que levam os clientes a cancelar seus serviços e fornecer insights e recomendações estratégicas para a equipe de gestão. A análise se baseou em um conjunto de dados de clientes, cobrindo informações demográficas, de serviço e de contrato.\n",
        "\n",
        "## 2. Limpeza e Tratamento de Dados\n",
        "\n",
        "A qualidade da análise depende diretamente da qualidade dos dados. O processo de preparação de dados seguiu os seguintes passos:\n",
        "\n",
        "1.  **Extração de Dados:** Os dados foram obtidos de uma API no formato JSON. Devido à sua estrutura aninhada, foi necessário utilizar a biblioteca Pandas para expandir os dados e convertê-los em um formato tabular (DataFrame).\n",
        "2.  **Tratamento de Inconsistências:** A coluna de custos totais (`CustoTotal`) continha espaços em branco, o que a classificava erroneamente como um tipo de texto. Esses valores foram substituídos e a coluna foi convertida para um tipo numérico, permitindo a realização de cálculos. As poucas linhas com valores ausentes foram removidas.\n",
        "3.  **Criação de Novas Variáveis:** Uma nova coluna, `Contas_Diarias`, foi criada a partir do `CustoMensal` para fornecer uma visão mais detalhada dos gastos dos clientes.\n",
        "4.  **Padronização e Tradução:** Para tornar a análise mais compreensível e acessível para todos os membros da equipe, as colunas e os valores categóricos (como 'Yes' e 'No') foram traduzidos para o português.\n",
        "\n",
        "## 3. Análise Exploratória de Dados\n",
        "\n",
        "A Análise Exploratória de Dados (EDA) revelou padrões e tendências importantes sobre o comportamento de evasão dos clientes.\n",
        "\n",
        "### 3.1. Taxa de Evasão Geral\n",
        "\n",
        "A análise inicial mostrou que a Telecom X enfrenta uma taxa de evasão geral de **26.6%**. Este é um valor alarmante que indica a urgência de intervenções para a retenção de clientes.\n",
        "\n",
        "\n",
        "### 3.2. Fatores de Evasão\n",
        "\n",
        "As seguintes visualizações destacam os principais fatores que influenciam a decisão de evasão:\n",
        "\n",
        "* **Tipo de Contrato:** Clientes com contrato **Mensal** apresentam uma taxa de evasão drasticamente superior aos clientes com contratos **Anuais** ou de **Dois Anos**. Isso sugere que a fidelização é um desafio para os planos de curto prazo.\n",
        "\n",
        "\n",
        "* **Método de Pagamento:** O método de pagamento também é um fator relevante. Clientes que utilizam **Cheque Eletrônico** como forma de pagamento têm a maior taxa de evasão, enquanto métodos automáticos (cartão de crédito e transferência bancária) têm taxas significativamente menores.\n",
        "\n",
        "\n",
        "* **Serviços Adicionais:** (Adapte ou adicione um texto aqui com base em outras análises que você fez, por exemplo: \"A ausência de serviços como 'Segurança Online' e 'Suporte Técnico' está fortemente associada a uma maior probabilidade de evasão.\")\n",
        "\n",
        "\n",
        "## 4. Conclusões e Recomendações\n",
        "\n",
        "### 4.1. Principais Achados e Insights\n",
        "\n",
        "* A taxa de evasão de **26.6%** é o ponto de partida para a tomada de decisões.\n",
        "* A falta de contrato de longo prazo e a utilização de métodos de pagamento não automáticos são os maiores indicadores de risco de evasão.\n",
        "\n",
        "### 4.2. Recomendações Estratégicas\n",
        "\n",
        "1.  **Programas de Fidelização:** Criar ofertas exclusivas para clientes com contrato mensal, incentivando a migração para planos anuais com descontos ou benefícios adicionais.\n",
        "2.  **Incentivos para Métodos de Pagamento Automáticos:** Oferecer bônus ou descontos para clientes que mudarem seu método de pagamento para transferência bancária ou cartão de crédito automático, o que também reduz o risco de churn.\n",
        "3.  **Aprimoramento da Experiência do Cliente:** Investir em melhorias no serviço de cheque eletrônico ou direcionar esforços para educar os clientes sobre os benefícios de outras formas de pagamento mais seguras e convenientes.\n",
        "4.  (Insira aqui outras recomendações baseadas nos seus outros insights)."
      ],
      "metadata": {
        "id": "apN0Xe2fSpBS"
      }
    }
  ],
  "metadata": {
    "colab": {
      "provenance": []
    },
    "kernelspec": {
      "display_name": "Python 3",
      "name": "python3"
    },
    "language_info": {
      "name": "python"
    }
  },
  "nbformat": 4,
  "nbformat_minor": 0
}